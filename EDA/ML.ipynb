{
 "cells": [
  {
   "cell_type": "code",
   "execution_count": 23,
   "metadata": {},
   "outputs": [],
   "source": [
    "import pandas as pd\n",
    "import numpy as np\n",
    "import matplotlib.pyplot as plt\n",
    "import seaborn as sns\n",
    "from sklearn.preprocessing import MinMaxScaler, LabelEncoder, OneHotEncoder, StandardScaler\n",
    "from sklearn.model_selection import train_test_split\n",
    "from sklearn.cluster import KMeans\n",
    "from sklearn.decomposition import PCA\n",
    "from sklearn.impute import SimpleImputer\n",
    "from sklearn.pipeline import Pipeline\n",
    "from sklearn.compose import ColumnTransformer\n",
    "from sklearn.neighbors import KNeighborsClassifier\n",
    "from sklearn.ensemble import RandomForestClassifier, GradientBoostingClassifier, AdaBoostClassifier\n",
    "from sklearn.linear_model import LogisticRegression\n",
    "from sklearn.svm import SVC\n",
    "from sklearn.tree import DecisionTreeClassifier\n",
    "from sklearn.naive_bayes import GaussianNB\n",
    "from sklearn.metrics import accuracy_score, confusion_matrix, classification_report\n",
    "from sklearn.metrics import precision_score, recall_score, f1_score\n",
    "from catboost import CatBoostClassifier\n"
   ]
  },
  {
   "cell_type": "code",
   "execution_count": 7,
   "metadata": {},
   "outputs": [
    {
     "name": "stdout",
     "output_type": "stream",
     "text": [
      "<class 'pandas.core.frame.DataFrame'>\n",
      "Index: 9601 entries, 0 to 76315\n",
      "Data columns (total 20 columns):\n",
      " #   Column                    Non-Null Count  Dtype  \n",
      "---  ------                    --------------  -----  \n",
      " 0   Age                       9601 non-null   float64\n",
      " 1   Occupation                9601 non-null   object \n",
      " 2   Monthly_Inhand_Salary     8186 non-null   float64\n",
      " 3   Num_Bank_Accounts         9601 non-null   int64  \n",
      " 4   Num_Credit_Card           9601 non-null   int64  \n",
      " 5   Interest_Rate             9601 non-null   int64  \n",
      " 6   Num_of_Loan               9224 non-null   float64\n",
      " 7   Delay_from_due_date       9601 non-null   int64  \n",
      " 8   Num_of_Delayed_Payment    9532 non-null   float64\n",
      " 9   Changed_Credit_Limit      9415 non-null   float64\n",
      " 10  Num_Credit_Inquiries      9601 non-null   float64\n",
      " 11  Credit_Mix                9601 non-null   object \n",
      " 12  Outstanding_Debt          9601 non-null   float64\n",
      " 13  Credit_Utilization_Ratio  9601 non-null   float64\n",
      " 14  Payment_of_Min_Amount     9601 non-null   object \n",
      " 15  Total_EMI_per_month       9601 non-null   float64\n",
      " 16  Amount_invested_monthly   9170 non-null   float64\n",
      " 17  Payment_Behaviour         9601 non-null   object \n",
      " 18  Monthly_Balance           9342 non-null   float64\n",
      " 19  Credit_Score              9601 non-null   object \n",
      "dtypes: float64(11), int64(4), object(5)\n",
      "memory usage: 1.5+ MB\n"
     ]
    }
   ],
   "source": [
    "# Read train.csv file into a DataFrame\n",
    "df_credit = pd.read_csv('./step_2_modified_df_credit_train.csv')\n",
    "\n",
    "#filter for january only\n",
    "df_january = df_credit[df_credit['Month'] == 'January'] # to iognore a specific month\n",
    "\n",
    "#drop column Month and Name and Customer_ID\n",
    "df_january = df_january.drop(['Month', 'Name', 'Customer_ID'], axis=1)\n",
    "\n",
    "#display df\n",
    "df_january.info()"
   ]
  },
  {
   "cell_type": "code",
   "execution_count": 8,
   "metadata": {},
   "outputs": [
    {
     "data": {
      "text/plain": [
       "Index(['Age', 'Occupation', 'Monthly_Inhand_Salary', 'Num_Bank_Accounts',\n",
       "       'Num_Credit_Card', 'Interest_Rate', 'Num_of_Loan',\n",
       "       'Delay_from_due_date', 'Num_of_Delayed_Payment', 'Changed_Credit_Limit',\n",
       "       'Num_Credit_Inquiries', 'Credit_Mix', 'Outstanding_Debt',\n",
       "       'Credit_Utilization_Ratio', 'Payment_of_Min_Amount',\n",
       "       'Total_EMI_per_month', 'Amount_invested_monthly', 'Payment_Behaviour',\n",
       "       'Monthly_Balance', 'Credit_Score'],\n",
       "      dtype='object')"
      ]
     },
     "execution_count": 8,
     "metadata": {},
     "output_type": "execute_result"
    }
   ],
   "source": [
    "df_january.columns\n",
    "\n"
   ]
  },
  {
   "cell_type": "code",
   "execution_count": 9,
   "metadata": {},
   "outputs": [
    {
     "name": "stdout",
     "output_type": "stream",
     "text": [
      "Numeric columns: ['Age', 'Monthly_Inhand_Salary', 'Num_Bank_Accounts', 'Num_Credit_Card', 'Interest_Rate', 'Num_of_Loan', 'Delay_from_due_date', 'Num_of_Delayed_Payment', 'Changed_Credit_Limit', 'Num_Credit_Inquiries', 'Outstanding_Debt', 'Credit_Utilization_Ratio', 'Total_EMI_per_month', 'Amount_invested_monthly', 'Monthly_Balance']\n",
      "Object columns: ['Occupation', 'Credit_Mix', 'Payment_of_Min_Amount', 'Payment_Behaviour', 'Credit_Score']\n"
     ]
    }
   ],
   "source": [
    "# Initialize empty lists for numeric columns (int, int64, float, float64) and object columns\n",
    "numeric_columns = []\n",
    "object_columns = []\n",
    "\n",
    "# Loop over the DataFrame's columns and categorize them based on data type\n",
    "for column, dtype in df_january.dtypes.items():\n",
    "    # Check if the data type of the current column is numeric (integer or float)\n",
    "    if dtype in ['int', 'int64', 'float', 'float64']:\n",
    "        numeric_columns.append(column)\n",
    "    # Else, if the column is of object type\n",
    "    elif dtype == 'object':\n",
    "        object_columns.append(column)\n",
    "\n",
    "# Now you have two lists: one with the names of the numeric columns and another with object columns\n",
    "print(\"Numeric columns:\", numeric_columns)\n",
    "print(\"Object columns:\", object_columns)\n"
   ]
  },
  {
   "cell_type": "code",
   "execution_count": 10,
   "metadata": {},
   "outputs": [],
   "source": [
    "# Initialize the LabelEncoder\n",
    "label_encoder = LabelEncoder()\n",
    "\n",
    "# Assuming 'Credit_Score' is in the original df_january DataFrame before the split\n",
    "# Fit and transform the 'Credit_Score' column to encode it\n",
    "df_january['Credit_Score_Encoded'] = label_encoder.fit_transform(df_january['Credit_Score'])\n",
    "\n",
    "\n"
   ]
  },
  {
   "cell_type": "code",
   "execution_count": 42,
   "metadata": {},
   "outputs": [],
   "source": [
    "# Now, you can set up your features (X) and target (y) for model training\n",
    "X = df_january.drop(['Credit_Score','Credit_Score_Encoded'], axis=1)  # Drop the original non-encoded column\n",
    "y = df_january['Credit_Score_Encoded']  # Use the encoded column as the target variable\n",
    "\n",
    "# Split the data into training and test sets\n",
    "X_train, X_test, y_train, y_test = train_test_split(X, y, test_size=0.2, random_state=42)"
   ]
  },
  {
   "cell_type": "code",
   "execution_count": 12,
   "metadata": {},
   "outputs": [],
   "source": [
    " #select columns to inpute\n",
    "columns_to_impute = ['Age', 'Monthly_Inhand_Salary', 'Num_Bank_Accounts', 'Num_Credit_Card', 'Interest_Rate', 'Num_of_Loan', 'Delay_from_due_date', 'Num_of_Delayed_Payment', 'Changed_Credit_Limit', 'Num_Credit_Inquiries', 'Outstanding_Debt', 'Credit_Utilization_Ratio', \n",
    "                     'Total_EMI_per_month', 'Amount_invested_monthly', 'Monthly_Balance']\n",
    "#select columns to encode \n",
    "columns_to_encode = ['Occupation', 'Credit_Mix', 'Payment_of_Min_Amount', 'Payment_Behaviour']\n",
    "\n",
    "#select columns to scale\n",
    "columns_to_scale = ['Age', 'Monthly_Inhand_Salary', 'Num_Bank_Accounts', 'Num_Credit_Card', 'Interest_Rate', 'Num_of_Loan', 'Delay_from_due_date', 'Num_of_Delayed_Payment', 'Changed_Credit_Limit', 'Num_Credit_Inquiries', 'Outstanding_Debt', 'Credit_Utilization_Ratio', \n",
    "                    'Total_EMI_per_month', 'Amount_invested_monthly', 'Monthly_Balance']"
   ]
  },
  {
   "cell_type": "code",
   "execution_count": 13,
   "metadata": {},
   "outputs": [],
   "source": [
    "# Define the column transformer\n",
    "preprocessor = ColumnTransformer(\n",
    "    transformers=[\n",
    "        ('num', Pipeline(steps=[\n",
    "            ('imputer', SimpleImputer(strategy='mean')),\n",
    "            ('scaler', MinMaxScaler())]), columns_to_scale),\n",
    "        ('cat', OneHotEncoder(drop='first'), columns_to_encode)\n",
    "    ])\n",
    "\n",
    "# Apply the preprocessing pipeline to your data\n",
    "X_train_processed = preprocessor.fit_transform(X_train)\n",
    "X_test_processed = preprocessor.transform(X_test)\n"
   ]
  },
  {
   "cell_type": "code",
   "execution_count": 14,
   "metadata": {},
   "outputs": [
    {
     "data": {
      "image/png": "[encoded data removed]",
      "text/plain": [
       "<Figure size 1000x600 with 1 Axes>"
      ]
     },
     "metadata": {},
     "output_type": "display_data"
    }
   ],
   "source": [
    "# Range of k values to try\n",
    "k_values = range(1, 15)\n",
    "\n",
    "# List to store the inertia for each k value\n",
    "inertia = []\n",
    "\n",
    "# Compute inertia for each k value\n",
    "for k in k_values:\n",
    "    kmeans = KMeans(n_clusters=k, random_state=42)\n",
    "    kmeans.fit(X_train_processed)\n",
    "    inertia.append(kmeans.inertia_)\n",
    "\n",
    "# Plotting the elbow curve\n",
    "plt.figure(figsize=(10, 6))\n",
    "plt.plot(k_values, inertia, marker='o')\n",
    "plt.title('Elbow Curve')\n",
    "plt.xlabel('Number of Clusters (k)')\n",
    "plt.ylabel('Inertia')\n",
    "plt.xticks(k_values)\n",
    "plt.grid(True)\n",
    "plt.show()\n"
   ]
  },
  {
   "cell_type": "code",
   "execution_count": 15,
   "metadata": {},
   "outputs": [
    {
     "name": "stdout",
     "output_type": "stream",
     "text": [
      "Accuracy: 0.6798542425819886\n",
      "Confusion Matrix:\n",
      " [[195   8  75]\n",
      " [ 65 290 192]\n",
      " [157 118 821]]\n",
      "Classification Report:\n",
      "               precision    recall  f1-score   support\n",
      "\n",
      "           0       0.47      0.70      0.56       278\n",
      "           1       0.70      0.53      0.60       547\n",
      "           2       0.75      0.75      0.75      1096\n",
      "\n",
      "    accuracy                           0.68      1921\n",
      "   macro avg       0.64      0.66      0.64      1921\n",
      "weighted avg       0.70      0.68      0.68      1921\n",
      "\n"
     ]
    }
   ],
   "source": [
    "# Initialize the KNN model\n",
    "# You can adjust the number of neighbors (n_neighbors) based on your specific needs\n",
    "knn = KNeighborsClassifier(n_neighbors=9)\n",
    "\n",
    "# Train the model using the training sets\n",
    "knn.fit(X_train_processed, y_train)\n",
    "\n",
    "# Corrected: Predict the response for the processed test dataset\n",
    "y_pred = knn.predict(X_test_processed)  # Use X_test_processed for predictions\n",
    "\n",
    "# Evaluate the model using the correct test labels (y_test)\n",
    "print(\"Accuracy:\", accuracy_score(y_test, y_pred))\n",
    "print(\"Confusion Matrix:\\n\", confusion_matrix(y_test, y_pred))\n",
    "print(\"Classification Report:\\n\", classification_report(y_test, y_pred))\n"
   ]
  },
  {
   "cell_type": "code",
   "execution_count": 24,
   "metadata": {},
   "outputs": [
    {
     "name": "stderr",
     "output_type": "stream",
     "text": [
      "c:\\Users\\Omar\\anaconda3\\envs\\bootcamp\\Lib\\site-packages\\sklearn\\ensemble\\_weight_boosting.py:519: FutureWarning: The SAMME.R algorithm (the default) is deprecated and will be removed in 1.6. Use the SAMME algorithm to circumvent this warning.\n",
      "  warnings.warn(\n"
     ]
    },
    {
     "data": {
      "text/html": [
       "<div>\n",
       "<style scoped>\n",
       "    .dataframe tbody tr th:only-of-type {\n",
       "        vertical-align: middle;\n",
       "    }\n",
       "\n",
       "    .dataframe tbody tr th {\n",
       "        vertical-align: top;\n",
       "    }\n",
       "\n",
       "    .dataframe thead th {\n",
       "        text-align: right;\n",
       "    }\n",
       "</style>\n",
       "<table border=\"1\" class=\"dataframe\">\n",
       "  <thead>\n",
       "    <tr style=\"text-align: right;\">\n",
       "      <th></th>\n",
       "      <th>Classifier</th>\n",
       "      <th>Accuracy</th>\n",
       "      <th>Precision</th>\n",
       "      <th>Recall</th>\n",
       "      <th>F1</th>\n",
       "    </tr>\n",
       "  </thead>\n",
       "  <tbody>\n",
       "    <tr>\n",
       "      <th>4</th>\n",
       "      <td>Gradient Boosting</td>\n",
       "      <td>0.775117</td>\n",
       "      <td>0.734988</td>\n",
       "      <td>0.758330</td>\n",
       "      <td>0.740732</td>\n",
       "    </tr>\n",
       "    <tr>\n",
       "      <th>1</th>\n",
       "      <td>Random Forest</td>\n",
       "      <td>0.771473</td>\n",
       "      <td>0.729123</td>\n",
       "      <td>0.763097</td>\n",
       "      <td>0.737682</td>\n",
       "    </tr>\n",
       "    <tr>\n",
       "      <th>8</th>\n",
       "      <td>CatBoost</td>\n",
       "      <td>0.764185</td>\n",
       "      <td>0.719894</td>\n",
       "      <td>0.738173</td>\n",
       "      <td>0.724720</td>\n",
       "    </tr>\n",
       "    <tr>\n",
       "      <th>3</th>\n",
       "      <td>SVM</td>\n",
       "      <td>0.747527</td>\n",
       "      <td>0.711888</td>\n",
       "      <td>0.761101</td>\n",
       "      <td>0.717286</td>\n",
       "    </tr>\n",
       "    <tr>\n",
       "      <th>2</th>\n",
       "      <td>Logistic Regression</td>\n",
       "      <td>0.725664</td>\n",
       "      <td>0.685627</td>\n",
       "      <td>0.703762</td>\n",
       "      <td>0.689636</td>\n",
       "    </tr>\n",
       "    <tr>\n",
       "      <th>7</th>\n",
       "      <td>Naive Bayes</td>\n",
       "      <td>0.698074</td>\n",
       "      <td>0.689334</td>\n",
       "      <td>0.781782</td>\n",
       "      <td>0.685983</td>\n",
       "    </tr>\n",
       "    <tr>\n",
       "      <th>5</th>\n",
       "      <td>Decision Tree</td>\n",
       "      <td>0.708485</td>\n",
       "      <td>0.664630</td>\n",
       "      <td>0.665352</td>\n",
       "      <td>0.664268</td>\n",
       "    </tr>\n",
       "    <tr>\n",
       "      <th>0</th>\n",
       "      <td>KNN</td>\n",
       "      <td>0.681416</td>\n",
       "      <td>0.633954</td>\n",
       "      <td>0.666214</td>\n",
       "      <td>0.642253</td>\n",
       "    </tr>\n",
       "    <tr>\n",
       "      <th>6</th>\n",
       "      <td>AdaBoost</td>\n",
       "      <td>0.626236</td>\n",
       "      <td>0.590311</td>\n",
       "      <td>0.558898</td>\n",
       "      <td>0.502752</td>\n",
       "    </tr>\n",
       "  </tbody>\n",
       "</table>\n",
       "</div>"
      ],
      "text/plain": [
       "            Classifier  Accuracy  Precision    Recall        F1\n",
       "4    Gradient Boosting  0.775117   0.734988  0.758330  0.740732\n",
       "1        Random Forest  0.771473   0.729123  0.763097  0.737682\n",
       "8             CatBoost  0.764185   0.719894  0.738173  0.724720\n",
       "3                  SVM  0.747527   0.711888  0.761101  0.717286\n",
       "2  Logistic Regression  0.725664   0.685627  0.703762  0.689636\n",
       "7          Naive Bayes  0.698074   0.689334  0.781782  0.685983\n",
       "5        Decision Tree  0.708485   0.664630  0.665352  0.664268\n",
       "0                  KNN  0.681416   0.633954  0.666214  0.642253\n",
       "6             AdaBoost  0.626236   0.590311  0.558898  0.502752"
      ]
     },
     "execution_count": 24,
     "metadata": {},
     "output_type": "execute_result"
    }
   ],
   "source": [
    "classifiers = [\n",
    "    ('KNN', KNeighborsClassifier(n_neighbors=8)),\n",
    "    ('Random Forest', RandomForestClassifier(n_estimators=100, random_state=42)),\n",
    "    ('Logistic Regression', LogisticRegression(max_iter=1000, random_state=42)),\n",
    "    ('SVM', SVC(random_state=42)),\n",
    "    ('Gradient Boosting', GradientBoostingClassifier(random_state=42)),\n",
    "    ('Decision Tree', DecisionTreeClassifier(random_state=42)),\n",
    "    ('AdaBoost', AdaBoostClassifier(random_state=42)),\n",
    "    ('Naive Bayes', GaussianNB()),\n",
    "    ('CatBoost', CatBoostClassifier(silent=True, random_state=42))\n",
    "]\n",
    "\n",
    "# Initialize a list to store the results\n",
    "results = []\n",
    "\n",
    "# Iterate over the classifiers, train them on the processed training set, and evaluate on the processed test set\n",
    "for name, classifier in classifiers:\n",
    "    # Train the model using the processed training sets\n",
    "    classifier.fit(X_train_processed, y_train)\n",
    "    \n",
    "    # Predict the response for the processed test dataset\n",
    "    y_pred = classifier.predict(X_test_processed)\n",
    "    \n",
    "    # Compute metrics\n",
    "    accuracy = accuracy_score(y_test, y_pred)\n",
    "    precision = precision_score(y_test, y_pred, average='macro', zero_division=0)\n",
    "    recall = recall_score(y_test, y_pred, average='macro', zero_division=0)\n",
    "    f1 = f1_score(y_test, y_pred, average='macro', zero_division=0)\n",
    "    \n",
    "    # Append the results\n",
    "    results.append((name, accuracy, precision, recall, f1))\n",
    "\n",
    "# Convert results to a DataFrame\n",
    "results_df = pd.DataFrame(results, columns=['Classifier', 'Accuracy', 'Precision', 'Recall', 'F1'])\n",
    "\n",
    "# Sort the DataFrame by F1 score in descending order\n",
    "results_df_sorted = results_df.sort_values(by='F1', ascending=False)\n",
    "\n",
    "# Display the sorted DataFrame\n",
    "results_df_sorted"
   ]
  },
  {
   "cell_type": "code",
   "execution_count": 27,
   "metadata": {},
   "outputs": [
    {
     "name": "stdout",
     "output_type": "stream",
     "text": [
      "Confusion Matrix:\n",
      "[[209   6  63]\n",
      " [ 45 388 114]\n",
      " [120  84 892]]\n"
     ]
    }
   ],
   "source": [
    "#select the best model and get confussion matrix\n",
    "model = GradientBoostingClassifier(n_estimators=100, random_state=42)\n",
    "model.fit(X_train_processed, y_train)\n",
    "\n",
    "# Make predictions\n",
    "y_pred = model.predict(X_test_processed)\n",
    "\n",
    "# Compute the confusion matrix\n",
    "cm = confusion_matrix(y_test, y_pred)\n",
    "\n",
    "print(\"Confusion Matrix:\")\n",
    "print(cm)"
   ]
  },
  {
   "cell_type": "code",
   "execution_count": 37,
   "metadata": {},
   "outputs": [
    {
     "name": "stdout",
     "output_type": "stream",
     "text": [
      "Accuracy: 77.51%\n",
      "F1 Score: {'Poor': '64.11%', 'Standard': '75.71%', 'Good': '82.40%'}\n",
      "Precision Score: {'Poor': '55.88%', 'Standard': '81.17%', 'Good': '83.44%'}\n",
      "Recall Score: {'Poor': '75.18%', 'Standard': '70.93%', 'Good': '81.39%'}\n",
      "\n"
     ]
    },
    {
     "data": {
      "image/png": "[encoded data removed]",
      "text/plain": [
       "<Figure size 768x576 with 2 Axes>"
      ]
     },
     "metadata": {},
     "output_type": "display_data"
    }
   ],
   "source": [
    "# Assuming y_test and y_hat are already defined and are using 0, 1, 2 for \"Poor\", \"Standard\", \"Good\"\n",
    "numeric_classes = [0, 1, 2]  # 0 for \"Poor\", 1 for \"Standard\", 2 for \"Good\"\n",
    "\n",
    "y_hat = model.predict(X_test_processed)\n",
    "acc_score = accuracy_score(y_test, y_hat)\n",
    "f1 = f1_score(y_test, y_hat, average=None, labels=numeric_classes)\n",
    "precision = precision_score(y_test, y_hat, average=None, labels=numeric_classes)\n",
    "recall = recall_score(y_test, y_hat, average=None, labels=numeric_classes)\n",
    "\n",
    "# Mapping numeric labels to string for printing\n",
    "class_mapping = {0: 'Poor', 1: 'Standard', 2: 'Good'}\n",
    "\n",
    "print(f\"Accuracy: {acc_score:.2%}\\n\\\n",
    "F1 Score: {dict(zip(class_mapping.values(), map(lambda x: f'{x:.2%}', f1)))}\\n\\\n",
    "Precision Score: {dict(zip(class_mapping.values(), map(lambda x: f'{x:.2%}', precision)))}\\n\\\n",
    "Recall Score: {dict(zip(class_mapping.values(), map(lambda x: f'{x:.2%}', recall)))}\\n\\\n",
    "\")\n",
    "\n",
    "cm = confusion_matrix(y_test, y_hat, labels=numeric_classes)\n",
    "cm_norm = confusion_matrix(y_test, y_hat, normalize=\"true\", labels=numeric_classes)\n",
    "annot = np.array([f\"{i}\\n({g:.1%})\" for i, g in zip(cm.flatten(), cm_norm.flatten())])\n",
    "annot = annot.reshape(cm.shape)\n",
    "\n",
    "fig = plt.figure(dpi=120)\n",
    "sns.heatmap(cm, annot=annot, fmt=\"\", cmap=\"Reds\", xticklabels=class_mapping.values(), yticklabels=class_mapping.values())\n",
    "plt.title(\"Confusion Matrix\")\n",
    "plt.ylabel('True Label')\n",
    "plt.xlabel('Predicted Label')\n",
    "plt.show()\n"
   ]
  },
  {
   "cell_type": "code",
   "execution_count": 25,
   "metadata": {},
   "outputs": [
    {
     "name": "stderr",
     "output_type": "stream",
     "text": [
      "c:\\Users\\Omar\\anaconda3\\envs\\bootcamp\\Lib\\site-packages\\sklearn\\ensemble\\_weight_boosting.py:519: FutureWarning: The SAMME.R algorithm (the default) is deprecated and will be removed in 1.6. Use the SAMME algorithm to circumvent this warning.\n",
      "  warnings.warn(\n"
     ]
    },
    {
     "name": "stdout",
     "output_type": "stream",
     "text": [
      "            Classifier  Accuracy  Precision    Recall        F1\n",
      "1        Random Forest  0.775638   0.733547  0.764635  0.741919\n",
      "4    Gradient Boosting  0.775117   0.734988  0.758330  0.740732\n",
      "8             CatBoost  0.764185   0.719894  0.738173  0.724720\n",
      "3                  SVM  0.747527   0.711888  0.761101  0.717286\n",
      "2  Logistic Regression  0.725664   0.685627  0.703762  0.689636\n",
      "7          Naive Bayes  0.698074   0.689334  0.781782  0.685983\n",
      "5        Decision Tree  0.708485   0.664630  0.665352  0.664268\n",
      "0                  KNN  0.681416   0.633954  0.666214  0.642253\n",
      "6             AdaBoost  0.626236   0.590311  0.558898  0.502752\n"
     ]
    },
    {
     "data": {
      "text/plain": [
       "['model.pk1']"
      ]
     },
     "execution_count": 25,
     "metadata": {},
     "output_type": "execute_result"
    }
   ],
   "source": [
    "import pandas as pd\n",
    "from sklearn.metrics import accuracy_score, precision_score, recall_score, f1_score\n",
    "from sklearn.neighbors import KNeighborsClassifier\n",
    "from sklearn.ensemble import RandomForestClassifier, GradientBoostingClassifier, AdaBoostClassifier\n",
    "from sklearn.linear_model import LogisticRegression\n",
    "from sklearn.svm import SVC\n",
    "from sklearn.tree import DecisionTreeClassifier\n",
    "from sklearn.naive_bayes import GaussianNB\n",
    "from joblib import dump\n",
    "\n",
    "# Assume X_train_processed, X_test_processed, y_train, y_test are already defined\n",
    "\n",
    "# Your classifiers list remains the same\n",
    "classifiers = [\n",
    "    ('KNN', KNeighborsClassifier(n_neighbors=8)),\n",
    "    ('Random Forest', RandomForestClassifier(n_estimators=1000, random_state=42)),\n",
    "    ('Logistic Regression', LogisticRegression(max_iter=1000, random_state=42)),\n",
    "    ('SVM', SVC(random_state=42)),\n",
    "    ('Gradient Boosting', GradientBoostingClassifier(random_state=42)),\n",
    "    ('Decision Tree', DecisionTreeClassifier(random_state=42)),\n",
    "    ('AdaBoost', AdaBoostClassifier(random_state=42)),\n",
    "    ('Naive Bayes', GaussianNB()),\n",
    "    ('CatBoost', CatBoostClassifier(silent=True, random_state=42))\n",
    "    \n",
    "]\n",
    "# Initialize a list to store the results and a dictionary to store model objects\n",
    "results = []\n",
    "models = {}\n",
    "\n",
    "# Iterate over the classifiers, train them, and evaluate\n",
    "for name, classifier in classifiers:\n",
    "    classifier.fit(X_train_processed, y_train)\n",
    "    y_pred = classifier.predict(X_test_processed)\n",
    "    \n",
    "    accuracy = accuracy_score(y_test, y_pred)\n",
    "    precision = precision_score(y_test, y_pred, average='macro', zero_division=0)\n",
    "    recall = recall_score(y_test, y_pred, average='macro', zero_division=0)\n",
    "    f1 = f1_score(y_test, y_pred, average='macro', zero_division=0)\n",
    "    \n",
    "    results.append((name, accuracy, precision, recall, f1))\n",
    "    models[name] = classifier\n",
    "\n",
    "# Convert results to a DataFrame and sort\n",
    "results_df = pd.DataFrame(results, columns=['Classifier', 'Accuracy', 'Precision', 'Recall', 'F1'])\n",
    "results_df_sorted = results_df.sort_values(by='F1', ascending=False)\n",
    "\n",
    "# Display the sorted DataFrame\n",
    "print(results_df_sorted)\n",
    "\n",
    "# Select the best model\n",
    "best_model_name = results_df_sorted.iloc[0]['Classifier']\n",
    "best_model = models[best_model_name]\n",
    "\n",
    "# Save the best model\n",
    "dump(best_model, 'model.pk1')\n"
   ]
  },
  {
   "cell_type": "code",
   "execution_count": 19,
   "metadata": {},
   "outputs": [],
   "source": [
    "# Save the sorted results DataFrame to a CSV file\n",
    "results_df_sorted.to_csv('model_comparison_results.csv', index=False)\n"
   ]
  }
 ],
 "metadata": {
  "kernelspec": {
   "display_name": "bootcamp",
   "language": "python",
   "name": "python3"
  },
  "language_info": {
   "codemirror_mode": {
    "name": "ipython",
    "version": 3
   },
   "file_extension": ".py",
   "mimetype": "text/x-python",
   "name": "python",
   "nbconvert_exporter": "python",
   "pygments_lexer": "ipython3",
   "version": "3.11.7"
  }
 },
 "nbformat": 4,
 "nbformat_minor": 2
}
