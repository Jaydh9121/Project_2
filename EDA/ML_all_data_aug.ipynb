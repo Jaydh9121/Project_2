{
 "cells": [
  {
   "cell_type": "code",
   "execution_count": 1,
   "metadata": {},
   "outputs": [],
   "source": [
    "import pandas as pd\n",
    "import numpy as np\n",
    "import matplotlib.pyplot as plt\n",
    "import seaborn as sns\n",
    "from sklearn.preprocessing import MinMaxScaler, LabelEncoder, OneHotEncoder, StandardScaler\n",
    "from sklearn.model_selection import train_test_split\n",
    "from sklearn.cluster import KMeans\n",
    "from sklearn.decomposition import PCA\n",
    "from sklearn.impute import SimpleImputer\n",
    "from sklearn.pipeline import Pipeline\n",
    "from sklearn.compose import ColumnTransformer\n",
    "from sklearn.neighbors import KNeighborsClassifier\n",
    "from sklearn.ensemble import RandomForestClassifier, GradientBoostingClassifier, AdaBoostClassifier\n",
    "from sklearn.linear_model import LogisticRegression\n",
    "from sklearn.svm import SVC\n",
    "from sklearn.tree import DecisionTreeClassifier\n",
    "from sklearn.naive_bayes import GaussianNB\n",
    "from sklearn.metrics import accuracy_score, confusion_matrix, classification_report\n",
    "from sklearn.metrics import precision_score, recall_score, f1_score\n"
   ]
  },
  {
   "cell_type": "code",
   "execution_count": 3,
   "metadata": {},
   "outputs": [
    {
     "name": "stdout",
     "output_type": "stream",
     "text": [
      "<class 'pandas.core.frame.DataFrame'>\n",
      "Index: 9498 entries, 4 to 76320\n",
      "Data columns (total 20 columns):\n",
      " #   Column                    Non-Null Count  Dtype  \n",
      "---  ------                    --------------  -----  \n",
      " 0   Age                       9498 non-null   float64\n",
      " 1   Occupation                9498 non-null   object \n",
      " 2   Monthly_Inhand_Salary     8020 non-null   float64\n",
      " 3   Num_Bank_Accounts         9498 non-null   int64  \n",
      " 4   Num_Credit_Card           9498 non-null   int64  \n",
      " 5   Interest_Rate             9498 non-null   int64  \n",
      " 6   Num_of_Loan               9121 non-null   float64\n",
      " 7   Delay_from_due_date       9498 non-null   int64  \n",
      " 8   Num_of_Delayed_Payment    9433 non-null   float64\n",
      " 9   Changed_Credit_Limit      9309 non-null   float64\n",
      " 10  Num_Credit_Inquiries      9498 non-null   float64\n",
      " 11  Credit_Mix                9498 non-null   object \n",
      " 12  Outstanding_Debt          9498 non-null   float64\n",
      " 13  Credit_Utilization_Ratio  9498 non-null   float64\n",
      " 14  Payment_of_Min_Amount     9498 non-null   object \n",
      " 15  Total_EMI_per_month       9498 non-null   float64\n",
      " 16  Amount_invested_monthly   9063 non-null   float64\n",
      " 17  Payment_Behaviour         9498 non-null   object \n",
      " 18  Monthly_Balance           9231 non-null   float64\n",
      " 19  Credit_Score              9498 non-null   object \n",
      "dtypes: float64(11), int64(4), object(5)\n",
      "memory usage: 1.5+ MB\n"
     ]
    }
   ],
   "source": [
    "# Read train.csv file into a DataFrame\n",
    "df_credit = pd.read_csv('./step_2_modified_df_credit_train.csv')\n",
    "\n",
    "#filter for january only\n",
    "df_aug = df_credit[df_credit['Month'] == 'August']\n",
    "\n",
    "#drop column Month and Name and Customer_ID\n",
    "df_aug = df_aug.drop(['Month', 'Name', 'Customer_ID'], axis=1)\n",
    "\n",
    "#display df\n",
    "df_aug.info()"
   ]
  },
  {
   "cell_type": "code",
   "execution_count": 4,
   "metadata": {},
   "outputs": [
    {
     "data": {
      "text/plain": [
       "Index(['Age', 'Occupation', 'Monthly_Inhand_Salary', 'Num_Bank_Accounts',\n",
       "       'Num_Credit_Card', 'Interest_Rate', 'Num_of_Loan',\n",
       "       'Delay_from_due_date', 'Num_of_Delayed_Payment', 'Changed_Credit_Limit',\n",
       "       'Num_Credit_Inquiries', 'Credit_Mix', 'Outstanding_Debt',\n",
       "       'Credit_Utilization_Ratio', 'Payment_of_Min_Amount',\n",
       "       'Total_EMI_per_month', 'Amount_invested_monthly', 'Payment_Behaviour',\n",
       "       'Monthly_Balance', 'Credit_Score'],\n",
       "      dtype='object')"
      ]
     },
     "execution_count": 4,
     "metadata": {},
     "output_type": "execute_result"
    }
   ],
   "source": [
    "df_aug.columns\n",
    "\n"
   ]
  },
  {
   "cell_type": "code",
   "execution_count": 5,
   "metadata": {},
   "outputs": [
    {
     "name": "stdout",
     "output_type": "stream",
     "text": [
      "Numeric columns: ['Age', 'Monthly_Inhand_Salary', 'Num_Bank_Accounts', 'Num_Credit_Card', 'Interest_Rate', 'Num_of_Loan', 'Delay_from_due_date', 'Num_of_Delayed_Payment', 'Changed_Credit_Limit', 'Num_Credit_Inquiries', 'Outstanding_Debt', 'Credit_Utilization_Ratio', 'Total_EMI_per_month', 'Amount_invested_monthly', 'Monthly_Balance']\n",
      "Object columns: ['Occupation', 'Credit_Mix', 'Payment_of_Min_Amount', 'Payment_Behaviour', 'Credit_Score']\n"
     ]
    }
   ],
   "source": [
    "# Initialize empty lists for numeric columns (int, int64, float, float64) and object columns\n",
    "numeric_columns = []\n",
    "object_columns = []\n",
    "\n",
    "# Loop over the DataFrame's columns and categorize them based on data type\n",
    "for column, dtype in df_aug.dtypes.items():\n",
    "    # Check if the data type of the current column is numeric (integer or float)\n",
    "    if dtype in ['int', 'int64', 'float', 'float64']:\n",
    "        numeric_columns.append(column)\n",
    "    # Else, if the column is of object type\n",
    "    elif dtype == 'object':\n",
    "        object_columns.append(column)\n",
    "\n",
    "# Now you have two lists: one with the names of the numeric columns and another with object columns\n",
    "print(\"Numeric columns:\", numeric_columns)\n",
    "print(\"Object columns:\", object_columns)\n"
   ]
  },
  {
   "cell_type": "code",
   "execution_count": 6,
   "metadata": {},
   "outputs": [],
   "source": [
    "# Initialize the LabelEncoder\n",
    "label_encoder = LabelEncoder()\n",
    "\n",
    "# Assuming 'Credit_Score' is in the original df_january DataFrame before the split\n",
    "# Fit and transform the 'Credit_Score' column to encode it\n",
    "df_aug['Credit_Score_Encoded'] = label_encoder.fit_transform(df_aug['Credit_Score'])\n",
    "\n",
    "# Now, you can set up your features (X) and target (y) for model training\n",
    "X = df_aug.drop(['Credit_Score','Credit_Score'], axis=1)  # Drop the original non-encoded column\n",
    "y = df_aug['Credit_Score_Encoded']  # Use the encoded column as the target variable\n"
   ]
  },
  {
   "cell_type": "code",
   "execution_count": 8,
   "metadata": {},
   "outputs": [],
   "source": [
    "# Features and target variable\n",
    "X = df_aug.drop(['Credit_Score'], axis=1)  # Drop the original non-encoded column\n",
    "y = df_aug['Credit_Score_Encoded']  # Use the encoded column as the target variable\n",
    "\n",
    "# Split the data into training and test sets\n",
    "X_train, X_test, y_train, y_test = train_test_split(X, y, test_size=0.2, random_state=42)"
   ]
  },
  {
   "cell_type": "code",
   "execution_count": 9,
   "metadata": {},
   "outputs": [],
   "source": [
    " #select columns to inpute\n",
    "columns_to_impute = ['Age', 'Monthly_Inhand_Salary', 'Num_Bank_Accounts', 'Num_Credit_Card', 'Interest_Rate', 'Num_of_Loan', 'Delay_from_due_date', 'Num_of_Delayed_Payment', 'Changed_Credit_Limit', 'Num_Credit_Inquiries', 'Outstanding_Debt', 'Credit_Utilization_Ratio', \n",
    "                     'Total_EMI_per_month', 'Amount_invested_monthly', 'Monthly_Balance']\n",
    "#select columns to encode \n",
    "columns_to_encode = ['Occupation', 'Credit_Mix', 'Payment_of_Min_Amount', 'Payment_Behaviour']\n",
    "\n",
    "#select columns to scale\n",
    "columns_to_scale = ['Age', 'Monthly_Inhand_Salary', 'Num_Bank_Accounts', 'Num_Credit_Card', 'Interest_Rate', 'Num_of_Loan', 'Delay_from_due_date', 'Num_of_Delayed_Payment', 'Changed_Credit_Limit', 'Num_Credit_Inquiries', 'Outstanding_Debt', 'Credit_Utilization_Ratio', \n",
    "                    'Total_EMI_per_month', 'Amount_invested_monthly', 'Monthly_Balance']"
   ]
  },
  {
   "cell_type": "code",
   "execution_count": 10,
   "metadata": {},
   "outputs": [],
   "source": [
    "# Define the column transformer\n",
    "preprocessor = ColumnTransformer(\n",
    "    transformers=[\n",
    "        ('num', Pipeline(steps=[\n",
    "            ('imputer', SimpleImputer(strategy='mean')),\n",
    "            ('scaler', MinMaxScaler())]), columns_to_scale),\n",
    "        ('cat', OneHotEncoder(drop='first'), columns_to_encode)\n",
    "    ])\n",
    "\n",
    "# Apply the preprocessing pipeline to your data\n",
    "X_train_processed = preprocessor.fit_transform(X_train)\n",
    "X_test_processed = preprocessor.transform(X_test)\n"
   ]
  },
  {
   "cell_type": "code",
   "execution_count": 11,
   "metadata": {},
   "outputs": [
    {
     "name": "stderr",
     "output_type": "stream",
     "text": [
      "c:\\Users\\rac06\\anaconda3\\envs\\proj2\\lib\\site-packages\\sklearn\\cluster\\_kmeans.py:1412: FutureWarning: The default value of `n_init` will change from 10 to 'auto' in 1.4. Set the value of `n_init` explicitly to suppress the warning\n",
      "  super()._check_params_vs_input(X, default_n_init=10)\n",
      "c:\\Users\\rac06\\anaconda3\\envs\\proj2\\lib\\site-packages\\sklearn\\cluster\\_kmeans.py:1412: FutureWarning: The default value of `n_init` will change from 10 to 'auto' in 1.4. Set the value of `n_init` explicitly to suppress the warning\n",
      "  super()._check_params_vs_input(X, default_n_init=10)\n",
      "c:\\Users\\rac06\\anaconda3\\envs\\proj2\\lib\\site-packages\\sklearn\\cluster\\_kmeans.py:1412: FutureWarning: The default value of `n_init` will change from 10 to 'auto' in 1.4. Set the value of `n_init` explicitly to suppress the warning\n",
      "  super()._check_params_vs_input(X, default_n_init=10)\n",
      "c:\\Users\\rac06\\anaconda3\\envs\\proj2\\lib\\site-packages\\sklearn\\cluster\\_kmeans.py:1412: FutureWarning: The default value of `n_init` will change from 10 to 'auto' in 1.4. Set the value of `n_init` explicitly to suppress the warning\n",
      "  super()._check_params_vs_input(X, default_n_init=10)\n",
      "c:\\Users\\rac06\\anaconda3\\envs\\proj2\\lib\\site-packages\\sklearn\\cluster\\_kmeans.py:1412: FutureWarning: The default value of `n_init` will change from 10 to 'auto' in 1.4. Set the value of `n_init` explicitly to suppress the warning\n",
      "  super()._check_params_vs_input(X, default_n_init=10)\n",
      "c:\\Users\\rac06\\anaconda3\\envs\\proj2\\lib\\site-packages\\sklearn\\cluster\\_kmeans.py:1412: FutureWarning: The default value of `n_init` will change from 10 to 'auto' in 1.4. Set the value of `n_init` explicitly to suppress the warning\n",
      "  super()._check_params_vs_input(X, default_n_init=10)\n",
      "c:\\Users\\rac06\\anaconda3\\envs\\proj2\\lib\\site-packages\\sklearn\\cluster\\_kmeans.py:1412: FutureWarning: The default value of `n_init` will change from 10 to 'auto' in 1.4. Set the value of `n_init` explicitly to suppress the warning\n",
      "  super()._check_params_vs_input(X, default_n_init=10)\n",
      "c:\\Users\\rac06\\anaconda3\\envs\\proj2\\lib\\site-packages\\sklearn\\cluster\\_kmeans.py:1412: FutureWarning: The default value of `n_init` will change from 10 to 'auto' in 1.4. Set the value of `n_init` explicitly to suppress the warning\n",
      "  super()._check_params_vs_input(X, default_n_init=10)\n",
      "c:\\Users\\rac06\\anaconda3\\envs\\proj2\\lib\\site-packages\\sklearn\\cluster\\_kmeans.py:1412: FutureWarning: The default value of `n_init` will change from 10 to 'auto' in 1.4. Set the value of `n_init` explicitly to suppress the warning\n",
      "  super()._check_params_vs_input(X, default_n_init=10)\n",
      "c:\\Users\\rac06\\anaconda3\\envs\\proj2\\lib\\site-packages\\sklearn\\cluster\\_kmeans.py:1412: FutureWarning: The default value of `n_init` will change from 10 to 'auto' in 1.4. Set the value of `n_init` explicitly to suppress the warning\n",
      "  super()._check_params_vs_input(X, default_n_init=10)\n",
      "c:\\Users\\rac06\\anaconda3\\envs\\proj2\\lib\\site-packages\\sklearn\\cluster\\_kmeans.py:1412: FutureWarning: The default value of `n_init` will change from 10 to 'auto' in 1.4. Set the value of `n_init` explicitly to suppress the warning\n",
      "  super()._check_params_vs_input(X, default_n_init=10)\n",
      "c:\\Users\\rac06\\anaconda3\\envs\\proj2\\lib\\site-packages\\sklearn\\cluster\\_kmeans.py:1412: FutureWarning: The default value of `n_init` will change from 10 to 'auto' in 1.4. Set the value of `n_init` explicitly to suppress the warning\n",
      "  super()._check_params_vs_input(X, default_n_init=10)\n",
      "c:\\Users\\rac06\\anaconda3\\envs\\proj2\\lib\\site-packages\\sklearn\\cluster\\_kmeans.py:1412: FutureWarning: The default value of `n_init` will change from 10 to 'auto' in 1.4. Set the value of `n_init` explicitly to suppress the warning\n",
      "  super()._check_params_vs_input(X, default_n_init=10)\n",
      "c:\\Users\\rac06\\anaconda3\\envs\\proj2\\lib\\site-packages\\sklearn\\cluster\\_kmeans.py:1412: FutureWarning: The default value of `n_init` will change from 10 to 'auto' in 1.4. Set the value of `n_init` explicitly to suppress the warning\n",
      "  super()._check_params_vs_input(X, default_n_init=10)\n"
     ]
    },
    {
     "data": {
      "image/png": "[encoded data removed]",
      "text/plain": [
       "<Figure size 1000x600 with 1 Axes>"
      ]
     },
     "metadata": {},
     "output_type": "display_data"
    }
   ],
   "source": [
    "# Range of k values to try\n",
    "k_values = range(1, 15)\n",
    "\n",
    "# List to store the inertia for each k value\n",
    "inertia = []\n",
    "\n",
    "# Compute inertia for each k value\n",
    "for k in k_values:\n",
    "    kmeans = KMeans(n_clusters=k, random_state=42)\n",
    "    kmeans.fit(X_train_processed)\n",
    "    inertia.append(kmeans.inertia_)\n",
    "\n",
    "# Plotting the elbow curve\n",
    "plt.figure(figsize=(10, 6))\n",
    "plt.plot(k_values, inertia, marker='o')\n",
    "plt.title('Elbow Curve')\n",
    "plt.xlabel('Number of Clusters (k)')\n",
    "plt.ylabel('Inertia')\n",
    "plt.xticks(k_values)\n",
    "plt.grid(True)\n",
    "plt.show()\n"
   ]
  },
  {
   "cell_type": "code",
   "execution_count": 12,
   "metadata": {},
   "outputs": [
    {
     "name": "stdout",
     "output_type": "stream",
     "text": [
      "Accuracy: 0.5352631578947369\n",
      "Confusion Matrix:\n",
      " [[145  16 207]\n",
      " [ 53 200 305]\n",
      " [150 152 672]]\n",
      "Classification Report:\n",
      "               precision    recall  f1-score   support\n",
      "\n",
      "           0       0.42      0.39      0.41       368\n",
      "           1       0.54      0.36      0.43       558\n",
      "           2       0.57      0.69      0.62       974\n",
      "\n",
      "    accuracy                           0.54      1900\n",
      "   macro avg       0.51      0.48      0.49      1900\n",
      "weighted avg       0.53      0.54      0.52      1900\n",
      "\n"
     ]
    }
   ],
   "source": [
    "# Initialize the KNN model\n",
    "# You can adjust the number of neighbors (n_neighbors) based on your specific needs\n",
    "knn = KNeighborsClassifier(n_neighbors=9)\n",
    "\n",
    "# Train the model using the training sets\n",
    "knn.fit(X_train_processed, y_train)\n",
    "\n",
    "# Corrected: Predict the response for the processed test dataset\n",
    "y_pred = knn.predict(X_test_processed)  # Use X_test_processed for predictions\n",
    "\n",
    "# Evaluate the model using the correct test labels (y_test)\n",
    "print(\"Accuracy:\", accuracy_score(y_test, y_pred))\n",
    "print(\"Confusion Matrix:\\n\", confusion_matrix(y_test, y_pred))\n",
    "print(\"Classification Report:\\n\", classification_report(y_test, y_pred))\n"
   ]
  },
  {
   "cell_type": "code",
   "execution_count": 13,
   "metadata": {},
   "outputs": [
    {
     "data": {
      "text/html": [
       "<div>\n",
       "<style scoped>\n",
       "    .dataframe tbody tr th:only-of-type {\n",
       "        vertical-align: middle;\n",
       "    }\n",
       "\n",
       "    .dataframe tbody tr th {\n",
       "        vertical-align: top;\n",
       "    }\n",
       "\n",
       "    .dataframe thead th {\n",
       "        text-align: right;\n",
       "    }\n",
       "</style>\n",
       "<table border=\"1\" class=\"dataframe\">\n",
       "  <thead>\n",
       "    <tr style=\"text-align: right;\">\n",
       "      <th></th>\n",
       "      <th>Classifier</th>\n",
       "      <th>Accuracy</th>\n",
       "      <th>Precision</th>\n",
       "      <th>Recall</th>\n",
       "      <th>F1</th>\n",
       "    </tr>\n",
       "  </thead>\n",
       "  <tbody>\n",
       "    <tr>\n",
       "      <th>1</th>\n",
       "      <td>Random Forest</td>\n",
       "      <td>0.617368</td>\n",
       "      <td>0.606587</td>\n",
       "      <td>0.568542</td>\n",
       "      <td>0.582227</td>\n",
       "    </tr>\n",
       "    <tr>\n",
       "      <th>4</th>\n",
       "      <td>Gradient Boosting</td>\n",
       "      <td>0.605263</td>\n",
       "      <td>0.593799</td>\n",
       "      <td>0.551601</td>\n",
       "      <td>0.565503</td>\n",
       "    </tr>\n",
       "    <tr>\n",
       "      <th>6</th>\n",
       "      <td>AdaBoost</td>\n",
       "      <td>0.594737</td>\n",
       "      <td>0.588380</td>\n",
       "      <td>0.537262</td>\n",
       "      <td>0.553172</td>\n",
       "    </tr>\n",
       "    <tr>\n",
       "      <th>3</th>\n",
       "      <td>SVM</td>\n",
       "      <td>0.596842</td>\n",
       "      <td>0.586014</td>\n",
       "      <td>0.528307</td>\n",
       "      <td>0.543992</td>\n",
       "    </tr>\n",
       "    <tr>\n",
       "      <th>2</th>\n",
       "      <td>Logistic Regression</td>\n",
       "      <td>0.576316</td>\n",
       "      <td>0.565494</td>\n",
       "      <td>0.513441</td>\n",
       "      <td>0.527868</td>\n",
       "    </tr>\n",
       "    <tr>\n",
       "      <th>0</th>\n",
       "      <td>KNN</td>\n",
       "      <td>0.523158</td>\n",
       "      <td>0.496401</td>\n",
       "      <td>0.480322</td>\n",
       "      <td>0.485142</td>\n",
       "    </tr>\n",
       "    <tr>\n",
       "      <th>5</th>\n",
       "      <td>Decision Tree</td>\n",
       "      <td>0.503158</td>\n",
       "      <td>0.476112</td>\n",
       "      <td>0.477055</td>\n",
       "      <td>0.476407</td>\n",
       "    </tr>\n",
       "    <tr>\n",
       "      <th>7</th>\n",
       "      <td>Naive Bayes</td>\n",
       "      <td>0.508947</td>\n",
       "      <td>0.490811</td>\n",
       "      <td>0.493508</td>\n",
       "      <td>0.425496</td>\n",
       "    </tr>\n",
       "  </tbody>\n",
       "</table>\n",
       "</div>"
      ],
      "text/plain": [
       "            Classifier  Accuracy  Precision    Recall        F1\n",
       "1        Random Forest  0.617368   0.606587  0.568542  0.582227\n",
       "4    Gradient Boosting  0.605263   0.593799  0.551601  0.565503\n",
       "6             AdaBoost  0.594737   0.588380  0.537262  0.553172\n",
       "3                  SVM  0.596842   0.586014  0.528307  0.543992\n",
       "2  Logistic Regression  0.576316   0.565494  0.513441  0.527868\n",
       "0                  KNN  0.523158   0.496401  0.480322  0.485142\n",
       "5        Decision Tree  0.503158   0.476112  0.477055  0.476407\n",
       "7          Naive Bayes  0.508947   0.490811  0.493508  0.425496"
      ]
     },
     "execution_count": 13,
     "metadata": {},
     "output_type": "execute_result"
    }
   ],
   "source": [
    "classifiers = [\n",
    "    ('KNN', KNeighborsClassifier(n_neighbors=8)),\n",
    "    ('Random Forest', RandomForestClassifier(n_estimators=100, random_state=42)),\n",
    "    ('Logistic Regression', LogisticRegression(max_iter=1000, random_state=42)),\n",
    "    ('SVM', SVC(random_state=42)),\n",
    "    ('Gradient Boosting', GradientBoostingClassifier(random_state=42)),\n",
    "    ('Decision Tree', DecisionTreeClassifier(random_state=42)),\n",
    "    ('AdaBoost', AdaBoostClassifier(random_state=42)),\n",
    "    ('Naive Bayes', GaussianNB())\n",
    "]\n",
    "\n",
    "# Initialize a list to store the results\n",
    "results = []\n",
    "\n",
    "# Iterate over the classifiers, train them on the processed training set, and evaluate on the processed test set\n",
    "for name, classifier in classifiers:\n",
    "    # Train the model using the processed training sets\n",
    "    classifier.fit(X_train_processed, y_train)\n",
    "    \n",
    "    # Predict the response for the processed test dataset\n",
    "    y_pred = classifier.predict(X_test_processed)\n",
    "    \n",
    "    # Compute metrics\n",
    "    accuracy = accuracy_score(y_test, y_pred)\n",
    "    precision = precision_score(y_test, y_pred, average='macro', zero_division=0)\n",
    "    recall = recall_score(y_test, y_pred, average='macro', zero_division=0)\n",
    "    f1 = f1_score(y_test, y_pred, average='macro', zero_division=0)\n",
    "    \n",
    "    # Append the results\n",
    "    results.append((name, accuracy, precision, recall, f1))\n",
    "\n",
    "# Convert results to a DataFrame\n",
    "results_df = pd.DataFrame(results, columns=['Classifier', 'Accuracy', 'Precision', 'Recall', 'F1'])\n",
    "\n",
    "# Sort the DataFrame by F1 score in descending order\n",
    "results_df_sorted = results_df.sort_values(by='F1', ascending=False)\n",
    "\n",
    "# Display the sorted DataFrame\n",
    "results_df_sorted"
   ]
  },
  {
   "cell_type": "code",
   "execution_count": 14,
   "metadata": {},
   "outputs": [],
   "source": [
    "# Save the sorted results DataFrame to a CSV file\n",
    "results_df_sorted.to_csv('model_comparison_results_aug.csv', index=False)\n"
   ]
  }
 ],
 "metadata": {
  "kernelspec": {
   "display_name": "bootcamp",
   "language": "python",
   "name": "python3"
  },
  "language_info": {
   "codemirror_mode": {
    "name": "ipython",
    "version": 3
   },
   "file_extension": ".py",
   "mimetype": "text/x-python",
   "name": "python",
   "nbconvert_exporter": "python",
   "pygments_lexer": "ipython3",
   "version": "3.10.13"
  }
 },
 "nbformat": 4,
 "nbformat_minor": 2
}
